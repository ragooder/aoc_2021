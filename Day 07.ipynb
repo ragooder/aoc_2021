{
 "cells": [
  {
   "cell_type": "markdown",
   "id": "79ea34fb",
   "metadata": {},
   "source": [
    "### Day 7\n",
    "Part 1: Determine the horizontal position that the crabs can align to using the least fuel possible. How much fuel must they spend to align to that position?"
   ]
  },
  {
   "cell_type": "code",
   "execution_count": 1,
   "id": "6d76daa1",
   "metadata": {},
   "outputs": [],
   "source": [
    "import numpy as np"
   ]
  },
  {
   "cell_type": "code",
   "execution_count": 2,
   "id": "adcf3ccc",
   "metadata": {},
   "outputs": [],
   "source": [
    "day_7_test = \"16,1,2,0,4,2,7,1,2,14\"  "
   ]
  },
  {
   "cell_type": "code",
   "execution_count": 3,
   "id": "d8e3aba2",
   "metadata": {},
   "outputs": [
    {
     "data": {
      "text/plain": [
       "array([16,  1,  2,  0,  4,  2,  7,  1,  2, 14])"
      ]
     },
     "execution_count": 3,
     "metadata": {},
     "output_type": "execute_result"
    }
   ],
   "source": [
    "# read test data into np array (as going to load full data straight into np array)\n",
    "day_7_arr_test = np.array([int(i) for i in day_7_test.split(\",\")], dtype=int)\n",
    "day_7_arr_test"
   ]
  },
  {
   "cell_type": "code",
   "execution_count": 4,
   "id": "a20c8378",
   "metadata": {},
   "outputs": [],
   "source": [
    "# let's make a function\n",
    "def calc_fuel(in_arr):\n",
    "    max_pos = np.max(in_arr) + 1\n",
    "\n",
    "    fuels = np.zeros(max_pos, dtype=int)\n",
    "\n",
    "    for x in range(0, max_pos):\n",
    "        fuel = np.sum(abs(in_arr - x))\n",
    "        fuels[x] = fuel\n",
    "\n",
    "    return np.argmin(fuels), np.min(fuels)  # output best position and fuel required"
   ]
  },
  {
   "cell_type": "code",
   "execution_count": 5,
   "id": "575159c4",
   "metadata": {},
   "outputs": [
    {
     "data": {
      "text/plain": [
       "(2, 37)"
      ]
     },
     "execution_count": 5,
     "metadata": {},
     "output_type": "execute_result"
    }
   ],
   "source": [
    "# check on test data - align in position 2, which costs 37 fuel.\n",
    "calc_fuel(day_7_arr_test)"
   ]
  },
  {
   "cell_type": "code",
   "execution_count": 6,
   "id": "4a1c08f2",
   "metadata": {},
   "outputs": [],
   "source": [
    "# read in full data\n",
    "day_7_arr = np.loadtxt(\"inputs/day_07.txt\", delimiter=\",\", dtype=int)"
   ]
  },
  {
   "cell_type": "code",
   "execution_count": 7,
   "id": "c464334c",
   "metadata": {},
   "outputs": [
    {
     "data": {
      "text/plain": [
       "(330, 329389)"
      ]
     },
     "execution_count": 7,
     "metadata": {},
     "output_type": "execute_result"
    }
   ],
   "source": [
    "# run on full data\n",
    "calc_fuel(day_7_arr)"
   ]
  },
  {
   "cell_type": "markdown",
   "id": "368ef073",
   "metadata": {},
   "source": [
    "Part 2: It turns out, crab submarine engines don't burn fuel at a constant rate. Instead, each change of 1 step in horizontal position costs 1 more unit of fuel than the last: the first step costs 1, the second step costs 2, the third step costs 3, and so on. <br> Determine the horizontal position that the crabs can align to using the least fuel possible. How much fuel must they spend to align to that position?"
   ]
  },
  {
   "cell_type": "code",
   "execution_count": 8,
   "id": "d23d0028",
   "metadata": {},
   "outputs": [],
   "source": [
    "# make a new function to calculate with variable fuel rate\n",
    "# to convert from distance to fuel we can use triangluar numbers\n",
    "def calc_fuel_part2(in_arr):    \n",
    "    max_pos = np.max(in_arr) + 1           # maximum horizontal position\n",
    "\n",
    "    fuels = np.zeros(max_pos, dtype=int)   # empty array to store fuel values\n",
    "\n",
    "    for x in range(0, max_pos):            # just try all numbers from 0 to max (could be cleverer...)\n",
    "        n = np.abs(in_arr - x)\n",
    "        fuel = np.sum(n * (n + 1) // 2)    # make use of triangular numbers formula\n",
    "        fuels[x] = fuel\n",
    "\n",
    "    return np.argmin(fuels), np.min(fuels) # output best position and fuel required"
   ]
  },
  {
   "cell_type": "code",
   "execution_count": 9,
   "id": "2ba638a7",
   "metadata": {},
   "outputs": [
    {
     "data": {
      "text/plain": [
       "(5, 168)"
      ]
     },
     "execution_count": 9,
     "metadata": {},
     "output_type": "execute_result"
    }
   ],
   "source": [
    "# for test data best position is 5 and 168 fuel\n",
    "calc_fuel_part2(day_7_arr_test)"
   ]
  },
  {
   "cell_type": "code",
   "execution_count": 10,
   "id": "e7b72509",
   "metadata": {},
   "outputs": [
    {
     "data": {
      "text/plain": [
       "(459, 86397080)"
      ]
     },
     "execution_count": 10,
     "metadata": {},
     "output_type": "execute_result"
    }
   ],
   "source": [
    "# run on full data\n",
    "calc_fuel_part2(day_7_arr)"
   ]
  }
 ],
 "metadata": {
  "kernelspec": {
   "display_name": "geoml",
   "language": "python",
   "name": "geoml"
  },
  "language_info": {
   "codemirror_mode": {
    "name": "ipython",
    "version": 3
   },
   "file_extension": ".py",
   "mimetype": "text/x-python",
   "name": "python",
   "nbconvert_exporter": "python",
   "pygments_lexer": "ipython3",
   "version": "3.9.7"
  }
 },
 "nbformat": 4,
 "nbformat_minor": 5
}
