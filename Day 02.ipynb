{
 "cells": [
  {
   "cell_type": "markdown",
   "id": "e854123b",
   "metadata": {},
   "source": [
    "### Day 2"
   ]
  },
  {
   "cell_type": "markdown",
   "id": "86582f93",
   "metadata": {},
   "source": [
    "Part 1: Calculate the horizontal position and depth you would have after following the planned course. What do you get if you multiply your final horizontal position by your final depth?\n",
    "\n",
    "Create function and run on test data"
   ]
  },
  {
   "cell_type": "code",
   "execution_count": 1,
   "id": "8bb506fb",
   "metadata": {},
   "outputs": [],
   "source": [
    "def calc_position(in_string):\n",
    "    \n",
    "    pos_x, pos_y = 0, 0\n",
    "    \n",
    "    for line in in_string.split('\\n'):\n",
    "        instruction, val = line.split()\n",
    "        value = int(val)\n",
    "        \n",
    "        if instruction == 'forward':\n",
    "            pos_x += value\n",
    "        elif instruction == 'backward':\n",
    "            pos_x -= value\n",
    "        elif instruction == 'down':\n",
    "            pos_y += value\n",
    "        elif instruction == 'up':\n",
    "            pos_y -= value\n",
    "    \n",
    "    return pos_x, pos_y            "
   ]
  },
  {
   "cell_type": "code",
   "execution_count": 2,
   "id": "d47443c6",
   "metadata": {},
   "outputs": [],
   "source": [
    "day_2_test = \"\"\"forward 5\n",
    "down 5\n",
    "forward 8\n",
    "up 3\n",
    "down 8\n",
    "forward 2\"\"\""
   ]
  },
  {
   "cell_type": "code",
   "execution_count": 3,
   "id": "d36eff92",
   "metadata": {},
   "outputs": [
    {
     "name": "stdout",
     "output_type": "stream",
     "text": [
      "(15, 10)\n"
     ]
    },
    {
     "data": {
      "text/plain": [
       "150"
      ]
     },
     "execution_count": 3,
     "metadata": {},
     "output_type": "execute_result"
    }
   ],
   "source": [
    "# test data should be (15,10) so product = 150\n",
    "x, y = calc_position(day_2_test)\n",
    "print(f\"({x}, {y})\")\n",
    "x * y"
   ]
  },
  {
   "cell_type": "code",
   "execution_count": 4,
   "id": "09fe54fe",
   "metadata": {},
   "outputs": [
    {
     "data": {
      "text/plain": [
       "'forward 7\\ndown 1\\nforward 9\\nforward 4\\nforward 7\\ndown 8\\nforward 9\\ndown 2\\nforward 5\\ndown 3\\nforward 5\\nup'"
      ]
     },
     "execution_count": 4,
     "metadata": {},
     "output_type": "execute_result"
    }
   ],
   "source": [
    "# load data for day 2\n",
    "with open('inputs/day_02.txt') as f:\n",
    "    day_2 = f.read()\n",
    "    \n",
    "day_2[:100]"
   ]
  },
  {
   "cell_type": "code",
   "execution_count": 5,
   "id": "e4cce740",
   "metadata": {},
   "outputs": [
    {
     "name": "stdout",
     "output_type": "stream",
     "text": [
      "(1944, 1049)\n"
     ]
    },
    {
     "data": {
      "text/plain": [
       "2039256"
      ]
     },
     "execution_count": 5,
     "metadata": {},
     "output_type": "execute_result"
    }
   ],
   "source": [
    "# run on real data\n",
    "x, y = calc_position(day_2)\n",
    "print(f\"({x}, {y})\")\n",
    "x * y"
   ]
  },
  {
   "cell_type": "markdown",
   "id": "202b8bb0",
   "metadata": {},
   "source": [
    "Part 2: Using this new interpretation of the commands, calculate the horizontal position and depth you would have after following the planned course. What do you get if you multiply your final horizontal position by your final depth?"
   ]
  },
  {
   "cell_type": "code",
   "execution_count": 6,
   "id": "58be392f",
   "metadata": {},
   "outputs": [],
   "source": [
    "def calc_position2(in_string):\n",
    "    \n",
    "    pos_x, pos_y, aim = 0, 0, 0\n",
    "    \n",
    "    for line in in_string.split('\\n'):\n",
    "        instruction, val = line.split()\n",
    "        value = int(val)\n",
    "        \n",
    "        if instruction == 'forward':\n",
    "            pos_x += value\n",
    "            pos_y += aim * value\n",
    "        elif instruction == 'backward':\n",
    "            pos_x -= value\n",
    "        elif instruction == 'down':\n",
    "            #pos_y += value\n",
    "            aim += value\n",
    "        elif instruction == 'up':\n",
    "            #pos_y -= value\n",
    "            aim -= value\n",
    "    \n",
    "    return pos_x, pos_y"
   ]
  },
  {
   "cell_type": "code",
   "execution_count": 7,
   "id": "e054329c",
   "metadata": {},
   "outputs": [
    {
     "name": "stdout",
     "output_type": "stream",
     "text": [
      "(15, 60)\n"
     ]
    },
    {
     "data": {
      "text/plain": [
       "900"
      ]
     },
     "execution_count": 7,
     "metadata": {},
     "output_type": "execute_result"
    }
   ],
   "source": [
    "# test data should be (15,60) so product = 900\n",
    "x, y = calc_position2(day_2_test)\n",
    "print(f\"({x}, {y})\")\n",
    "x * y"
   ]
  },
  {
   "cell_type": "code",
   "execution_count": 8,
   "id": "45584786",
   "metadata": {},
   "outputs": [
    {
     "name": "stdout",
     "output_type": "stream",
     "text": [
      "(1944, 954969)\n"
     ]
    },
    {
     "data": {
      "text/plain": [
       "1856459736"
      ]
     },
     "execution_count": 8,
     "metadata": {},
     "output_type": "execute_result"
    }
   ],
   "source": [
    "# run on full data\n",
    "x, y = calc_position2(day_2)\n",
    "print(f\"({x}, {y})\")\n",
    "x * y"
   ]
  }
 ],
 "metadata": {
  "kernelspec": {
   "display_name": "geoml",
   "language": "python",
   "name": "geoml"
  },
  "language_info": {
   "codemirror_mode": {
    "name": "ipython",
    "version": 3
   },
   "file_extension": ".py",
   "mimetype": "text/x-python",
   "name": "python",
   "nbconvert_exporter": "python",
   "pygments_lexer": "ipython3",
   "version": "3.9.7"
  }
 },
 "nbformat": 4,
 "nbformat_minor": 5
}
