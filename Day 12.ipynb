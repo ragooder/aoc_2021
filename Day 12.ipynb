{
 "cells": [
  {
   "cell_type": "code",
   "execution_count": 1,
   "id": "5022edab",
   "metadata": {},
   "outputs": [],
   "source": [
    "import networkx as nx\n",
    "import matplotlib.pyplot as plt"
   ]
  },
  {
   "cell_type": "code",
   "execution_count": 3,
   "id": "3033268e",
   "metadata": {},
   "outputs": [],
   "source": [
    "day_12_test = \"\"\"start-A\n",
    "start-b\n",
    "A-c\n",
    "A-b\n",
    "b-d\n",
    "A-end\n",
    "b-end\"\"\""
   ]
  },
  {
   "cell_type": "code",
   "execution_count": 36,
   "id": "fa95cf15",
   "metadata": {},
   "outputs": [],
   "source": [
    "connections = [i.split(\"-\") for i in day_12_test.split(\"\\n\")]"
   ]
  },
  {
   "cell_type": "code",
   "execution_count": 37,
   "id": "cd4b172b",
   "metadata": {},
   "outputs": [],
   "source": [
    "G = nx.Graph()\n",
    "G.add_edges_from(connections)"
   ]
  },
  {
   "cell_type": "code",
   "execution_count": 40,
   "id": "363a8af0",
   "metadata": {},
   "outputs": [
    {
     "data": {
      "image/png": "[encoded data removed]",
      "text/plain": [
       "<Figure size 432x288 with 1 Axes>"
      ]
     },
     "metadata": {},
     "output_type": "display_data"
    }
   ],
   "source": [
    "nx.draw(G, with_labels=True)"
   ]
  },
  {
   "cell_type": "code",
   "execution_count": 29,
   "id": "a373481b",
   "metadata": {},
   "outputs": [
    {
     "data": {
      "text/plain": [
       "[['start', 'A', 'b', 'end'],\n",
       " ['start', 'A', 'end'],\n",
       " ['start', 'b', 'A', 'end'],\n",
       " ['start', 'b', 'end']]"
      ]
     },
     "execution_count": 29,
     "metadata": {},
     "output_type": "execute_result"
    }
   ],
   "source": [
    "# in built function - isn't quite what we want...\n",
    "list(nx.simple_paths.all_simple_paths(G, 'start', 'end'))\n",
    "\n",
    "# could I consider how many points are connected to A..."
   ]
  },
  {
   "cell_type": "code",
   "execution_count": 45,
   "id": "50ec6cb6",
   "metadata": {},
   "outputs": [
    {
     "data": {
      "text/plain": [
       "['start', 'c', 'b', 'end']"
      ]
     },
     "execution_count": 45,
     "metadata": {},
     "output_type": "execute_result"
    }
   ],
   "source": [
    "list(G.neighbors('A'))"
   ]
  },
  {
   "cell_type": "markdown",
   "id": "66f00471",
   "metadata": {},
   "source": [
    "https://www.py4u.net/discuss/162645\n",
    "Does this help...?"
   ]
  },
  {
   "cell_type": "code",
   "execution_count": null,
   "id": "5451a8bd",
   "metadata": {},
   "outputs": [],
   "source": []
  }
 ],
 "metadata": {
  "kernelspec": {
   "display_name": "geoml",
   "language": "python",
   "name": "geoml"
  },
  "language_info": {
   "codemirror_mode": {
    "name": "ipython",
    "version": 3
   },
   "file_extension": ".py",
   "mimetype": "text/x-python",
   "name": "python",
   "nbconvert_exporter": "python",
   "pygments_lexer": "ipython3",
   "version": "3.9.7"
  }
 },
 "nbformat": 4,
 "nbformat_minor": 5
}
