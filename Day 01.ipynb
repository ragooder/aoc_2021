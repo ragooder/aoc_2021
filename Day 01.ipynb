{
 "cells": [
  {
   "cell_type": "markdown",
   "id": "2eb599ff",
   "metadata": {},
   "source": [
    "### Day 1\n",
    "Part 1: Count the number of times a depth measurement increases from the previous measurement. (There is no measurement before the first measurement.)"
   ]
  },
  {
   "cell_type": "code",
   "execution_count": 1,
   "id": "85e15598",
   "metadata": {},
   "outputs": [],
   "source": [
    "import numpy as np"
   ]
  },
  {
   "cell_type": "code",
   "execution_count": 2,
   "id": "585be7ab",
   "metadata": {},
   "outputs": [],
   "source": [
    "# test data\n",
    "day_1_test = np.array([199, 200, 208, 210, 200, 207, 240, 269, 260, 263])"
   ]
  },
  {
   "cell_type": "code",
   "execution_count": 3,
   "id": "1a1b6368",
   "metadata": {},
   "outputs": [
    {
     "data": {
      "text/plain": [
       "7"
      ]
     },
     "execution_count": 3,
     "metadata": {},
     "output_type": "execute_result"
    }
   ],
   "source": [
    "# test data should be 7\n",
    "np.sum(day_1_test[:-1] < day_1_test[1:])"
   ]
  },
  {
   "cell_type": "code",
   "execution_count": 4,
   "id": "b5ddbf32",
   "metadata": {},
   "outputs": [
    {
     "data": {
      "text/plain": [
       "array([  134,   138,   142, ..., 10755, 10756, 10753])"
      ]
     },
     "execution_count": 4,
     "metadata": {},
     "output_type": "execute_result"
    }
   ],
   "source": [
    "# load full data\n",
    "day_1 = np.loadtxt(fname='inputs/day_01.txt', dtype=int)\n",
    "day_1"
   ]
  },
  {
   "cell_type": "code",
   "execution_count": 5,
   "id": "7376f099",
   "metadata": {},
   "outputs": [
    {
     "data": {
      "text/plain": [
       "1766"
      ]
     },
     "execution_count": 5,
     "metadata": {},
     "output_type": "execute_result"
    }
   ],
   "source": [
    "# run on full data\n",
    "np.sum(day_1[:-1] < day_1[1:])"
   ]
  },
  {
   "cell_type": "markdown",
   "id": "ed8b2ea1",
   "metadata": {},
   "source": [
    "Part 2: Consider sums of a three-measurement sliding window. <br>\n",
    "Count the number of times the sum of measurements in this sliding window increases from the previous sum. <br>\n",
    "Stop when there aren't enough measurements left to create a new three-measurement sum"
   ]
  },
  {
   "cell_type": "code",
   "execution_count": 6,
   "id": "995be54b",
   "metadata": {},
   "outputs": [
    {
     "data": {
      "text/plain": [
       "[607, 618, 618, 617, 647, 716, 769, 792]"
      ]
     },
     "execution_count": 6,
     "metadata": {},
     "output_type": "execute_result"
    }
   ],
   "source": [
    "[np.sum(day_1_test[i:i+3]) for i in range(len(day_1_test)-2)]"
   ]
  },
  {
   "cell_type": "code",
   "execution_count": 7,
   "id": "81a66d23",
   "metadata": {},
   "outputs": [
    {
     "data": {
      "text/plain": [
       "5"
      ]
     },
     "execution_count": 7,
     "metadata": {},
     "output_type": "execute_result"
    }
   ],
   "source": [
    "# test data should be 5\n",
    "sum([np.sum(day_1_test[i:i+3]) < np.sum(day_1_test[i+1:i+4]) for i in range(len(day_1_test)-3)])"
   ]
  },
  {
   "cell_type": "code",
   "execution_count": 8,
   "id": "eca3522b",
   "metadata": {},
   "outputs": [
    {
     "data": {
      "text/plain": [
       "1797"
      ]
     },
     "execution_count": 8,
     "metadata": {},
     "output_type": "execute_result"
    }
   ],
   "source": [
    "# full data:\n",
    "sum([np.sum(day_1[i:i+3]) < np.sum(day_1[i+1:i+4]) for i in range(len(day_1)-3)])"
   ]
  }
 ],
 "metadata": {
  "kernelspec": {
   "display_name": "geoml",
   "language": "python",
   "name": "geoml"
  },
  "language_info": {
   "codemirror_mode": {
    "name": "ipython",
    "version": 3
   },
   "file_extension": ".py",
   "mimetype": "text/x-python",
   "name": "python",
   "nbconvert_exporter": "python",
   "pygments_lexer": "ipython3",
   "version": "3.9.7"
  }
 },
 "nbformat": 4,
 "nbformat_minor": 5
}
