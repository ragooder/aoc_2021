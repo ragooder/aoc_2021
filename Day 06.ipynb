{
 "cells": [
  {
   "cell_type": "markdown",
   "id": "be549b15",
   "metadata": {},
   "source": [
    "### Day 6\n",
    "Part 1: How many lanternfish would there be after 80 days?"
   ]
  },
  {
   "cell_type": "code",
   "execution_count": 1,
   "id": "724ac0a6",
   "metadata": {},
   "outputs": [],
   "source": [
    "def simulate_lanternfish(in_string, days=80):\n",
    "    in_list = [int(i) for i in in_string.split(\",\")]\n",
    "    \n",
    "    for d in range(days):\n",
    "        out_list = []\n",
    "        new_fish = 0\n",
    "        \n",
    "        for i in in_list:\n",
    "            if i > 0:\n",
    "                out_list.append(i-1)\n",
    "\n",
    "            elif i == 0:\n",
    "                out_list.append(6)\n",
    "                new_fish += 1\n",
    "    \n",
    "        for f in range(new_fish):\n",
    "            out_list.append(8)\n",
    "        \n",
    "        in_list = out_list\n",
    "        \n",
    "    return len(in_list)"
   ]
  },
  {
   "cell_type": "code",
   "execution_count": 2,
   "id": "3d26a4bc",
   "metadata": {},
   "outputs": [],
   "source": [
    "# load test data\n",
    "day_6_test = \"3,4,3,1,2\""
   ]
  },
  {
   "cell_type": "code",
   "execution_count": 3,
   "id": "5b610491",
   "metadata": {},
   "outputs": [
    {
     "name": "stdout",
     "output_type": "stream",
     "text": [
      "26\n"
     ]
    },
    {
     "data": {
      "text/plain": [
       "5934"
      ]
     },
     "execution_count": 3,
     "metadata": {},
     "output_type": "execute_result"
    }
   ],
   "source": [
    "# test on test data - should be 26 fish after 18 days and 5934 after 80 days\n",
    "print(simulate_lanternfish(day_6_test, days=18))\n",
    "simulate_lanternfish(day_6_test)"
   ]
  },
  {
   "cell_type": "code",
   "execution_count": 4,
   "id": "b4a9cf3a",
   "metadata": {},
   "outputs": [
    {
     "data": {
      "text/plain": [
       "'3,5,3,5,1,3,1,1,5,5,1,1,1,2,2,2,3,1,1,5,1,1,5,5,3,2,2,5,4,4,1,5,1,4,4,5,2,4,1,1,5,3,1,1,4,1,1,1,1,4,1,1,1,1,2,1,1,4,1,1,1,2,3,5,5,1,1,3,1,4,1,3,4,5,1,4,5,1,1,4,1,3,1,5,1,2,1,1,2,1,4,1,1,1,4,4,3,1,1,1,1,1,4,1,4,5,2,1,4,5,4,1,1,1,2,2,1,4,4,1,1,4,1,1,1,2,3,4,2,4,1,1,5,4,2,1,5,1,1,5,1,2,1,1,1,5,5,2,1,4,3,1,2,2,4,1,2,1,1,5,1,3,2,4,3,1,4,3,1,2,1,1,1,1,1,4,3,3,1,3,1,1,5,1,1,1,1,3,3,1,3,5,1,5,5,2,1,2,1,4,2,3,4,1,4,2,4,2,5,3,4,3,5,1,2,1,1,4,1,3,5,1,4,1,2,4,3,1,5,1,1,2,2,4,2,3,1,1,1,5,2,1,4,1,1,1,4,1,3,3,2,4,1,4,2,5,1,5,2,1,4,1,3,1,2,5,5,4,1,2,3,3,2,2,1,3,3,1,4,4,1,1,4,1,1,5,1,2,4,2,1,4,1,1,4,3,5,1,2,1'"
      ]
     },
     "execution_count": 4,
     "metadata": {},
     "output_type": "execute_result"
    }
   ],
   "source": [
    "# load full data and remove trailing new line character\n",
    "with open(\"inputs/day_06.txt\") as f:\n",
    "    day_6 = f.read().rstrip() \n",
    "day_6"
   ]
  },
  {
   "cell_type": "code",
   "execution_count": 5,
   "id": "f4ee5773",
   "metadata": {},
   "outputs": [
    {
     "data": {
      "text/plain": [
       "365862"
      ]
     },
     "execution_count": 5,
     "metadata": {},
     "output_type": "execute_result"
    }
   ],
   "source": [
    "# run on full data\n",
    "simulate_lanternfish(day_6)"
   ]
  },
  {
   "cell_type": "markdown",
   "id": "52b95004",
   "metadata": {},
   "source": [
    "Part 2: How many lanternfish would there be after 256 days?"
   ]
  },
  {
   "cell_type": "code",
   "execution_count": 6,
   "id": "a3748644",
   "metadata": {},
   "outputs": [],
   "source": [
    "# when will my function for part 1 die...? around 180 days... suspect the list is getting too long for memory\n",
    "# test data - should be 26984457539 after 256 days!\n",
    "#simulate_lanternfish(day_6_test, days=256)"
   ]
  },
  {
   "cell_type": "code",
   "execution_count": 7,
   "id": "2b64a034",
   "metadata": {},
   "outputs": [],
   "source": [
    "# edit function to use dictionaries instead to track number of fish with each internal timer value\n",
    "def simulate_lanternfish_dict(in_string, days=80):\n",
    "    in_list = [int(i) for i in in_string.split(\",\")]   # convert input string to list of ints\n",
    "    in_dict = {x: in_list.count(x) for x in range(9)}  # create initial dict from counts of each timer value\n",
    "    \n",
    "    for d in range(days):\n",
    "        out_dict = {x: in_dict[x+1] for x in range(8)} # move all internal timers down by 1\n",
    "        out_dict[6] += in_dict[0]                      # reset fish with timer = 0 to 6\n",
    "        out_dict[8] = in_dict[0]                       # spawn new fish with timer of 8\n",
    "        \n",
    "        in_dict = out_dict\n",
    "        \n",
    "    return sum((f for f in out_dict.values()))         # return total number of fish (sum of each timer value)"
   ]
  },
  {
   "cell_type": "code",
   "execution_count": 8,
   "id": "e4ce4c3d",
   "metadata": {},
   "outputs": [
    {
     "name": "stdout",
     "output_type": "stream",
     "text": [
      "26\n"
     ]
    },
    {
     "data": {
      "text/plain": [
       "5934"
      ]
     },
     "execution_count": 8,
     "metadata": {},
     "output_type": "execute_result"
    }
   ],
   "source": [
    "# test this still works for part 1 with test data, 26 fish after 18 days and 5934 after 80 days\n",
    "print(simulate_lanternfish_dict(day_6_test, days=18))\n",
    "simulate_lanternfish_dict(day_6_test)"
   ]
  },
  {
   "cell_type": "code",
   "execution_count": 9,
   "id": "bcda2a02",
   "metadata": {},
   "outputs": [
    {
     "data": {
      "text/plain": [
       "26984457539"
      ]
     },
     "execution_count": 9,
     "metadata": {},
     "output_type": "execute_result"
    }
   ],
   "source": [
    "# part 2 with test data - should be 26984457539 after 256 days\n",
    "simulate_lanternfish_dict(day_6_test, days=256)"
   ]
  },
  {
   "cell_type": "code",
   "execution_count": 10,
   "id": "5d660290",
   "metadata": {},
   "outputs": [
    {
     "data": {
      "text/plain": [
       "1653250886439"
      ]
     },
     "execution_count": 10,
     "metadata": {},
     "output_type": "execute_result"
    }
   ],
   "source": [
    "# run part 2 on full data - that's a big number...!\n",
    "simulate_lanternfish_dict(day_6, days=256)"
   ]
  }
 ],
 "metadata": {
  "kernelspec": {
   "display_name": "geoml",
   "language": "python",
   "name": "geoml"
  },
  "language_info": {
   "codemirror_mode": {
    "name": "ipython",
    "version": 3
   },
   "file_extension": ".py",
   "mimetype": "text/x-python",
   "name": "python",
   "nbconvert_exporter": "python",
   "pygments_lexer": "ipython3",
   "version": "3.9.7"
  }
 },
 "nbformat": 4,
 "nbformat_minor": 5
}
