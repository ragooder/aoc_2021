{
 "cells": [
  {
   "cell_type": "markdown",
   "id": "3eda658b",
   "metadata": {},
   "source": [
    "### Day 8\n",
    "Part 1: In the output values, how many times do digits 1, 4, 7, or 8 appear?"
   ]
  },
  {
   "cell_type": "code",
   "execution_count": 1,
   "id": "f00d0b4f",
   "metadata": {},
   "outputs": [],
   "source": [
    "def count_1_4_7_8(in_string):   \n",
    "    digit_lengths = [0] * 8\n",
    "\n",
    "    for line in in_string.split(\"\\n\"):\n",
    "        _, output = line.split(\" | \")\n",
    "        for digit in output.split():\n",
    "            length = len(digit)\n",
    "            digit_lengths[length] += 1\n",
    "\n",
    "    return digit_lengths[2] + digit_lengths[3] + digit_lengths[4] + digit_lengths[7]"
   ]
  },
  {
   "cell_type": "code",
   "execution_count": 2,
   "id": "1fefb521",
   "metadata": {},
   "outputs": [],
   "source": [
    "day_8_test = \"\"\"be cfbegad cbdgef fgaecd cgeb fdcge agebfd fecdb fabcd edb | fdgacbe cefdb cefbgd gcbe\n",
    "edbfga begcd cbg gc gcadebf fbgde acbgfd abcde gfcbed gfec | fcgedb cgb dgebacf gc\n",
    "fgaebd cg bdaec gdafb agbcfd gdcbef bgcad gfac gcb cdgabef | cg cg fdcagb cbg\n",
    "fbegcd cbd adcefb dageb afcb bc aefdc ecdab fgdeca fcdbega | efabcd cedba gadfec cb\n",
    "aecbfdg fbg gf bafeg dbefa fcge gcbea fcaegb dgceab fcbdga | gecf egdcabf bgf bfgea\n",
    "fgeab ca afcebg bdacfeg cfaedg gcfdb baec bfadeg bafgc acf | gebdcfa ecba ca fadegcb\n",
    "dbcfg fgd bdegcaf fgec aegbdf ecdfab fbedc dacgb gdcebf gf | cefg dcbef fcge gbcadfe\n",
    "bdfegc cbegaf gecbf dfcage bdacg ed bedf ced adcbefg gebcd | ed bcgafe cdgba cbgef\n",
    "egadfb cdbfeg cegd fecab cgb gbdefca cg fgcdab egfdb bfceg | gbdfcae bgc cg cgb\n",
    "gcafb gcf dcaebfg ecagb gf abcdeg gaef cafbge fdbac fegbdc | fgae cfgab fg bagce\"\"\""
   ]
  },
  {
   "cell_type": "code",
   "execution_count": 3,
   "id": "24257498",
   "metadata": {},
   "outputs": [
    {
     "data": {
      "text/plain": [
       "26"
      ]
     },
     "execution_count": 3,
     "metadata": {},
     "output_type": "execute_result"
    }
   ],
   "source": [
    "# run on test data, should be 26\n",
    "count_1_4_7_8(day_8_test)"
   ]
  },
  {
   "cell_type": "code",
   "execution_count": 4,
   "id": "f7dcdc64",
   "metadata": {},
   "outputs": [],
   "source": [
    "# load full data\n",
    "with open(\"inputs/day_08.txt\") as f:\n",
    "    day_8 = f.read()"
   ]
  },
  {
   "cell_type": "code",
   "execution_count": 5,
   "id": "eae508bb",
   "metadata": {},
   "outputs": [
    {
     "data": {
      "text/plain": [
       "532"
      ]
     },
     "execution_count": 5,
     "metadata": {},
     "output_type": "execute_result"
    }
   ],
   "source": [
    "# run on full data\n",
    "count_1_4_7_8(day_8)"
   ]
  },
  {
   "cell_type": "markdown",
   "id": "5baf43fb",
   "metadata": {},
   "source": [
    "Part 2: For each entry, determine all of the wire/segment connections and decode the four-digit output values. What do you get if you add up all of the output values?"
   ]
  },
  {
   "cell_type": "code",
   "execution_count": 6,
   "id": "358308c0",
   "metadata": {},
   "outputs": [],
   "source": [
    "def decode(in_line):  \n",
    "    \n",
    "    unique_codes, digits = in_line.split(\" | \")\n",
    "    unique_codes\n",
    "   \n",
    "    digits_dict = {'abcefg': 0, 'cf': 1, 'acdeg': 2, 'acdfg': 3, 'bcdf': 4, \n",
    "               'abdfg': 5, 'abdefg': 6, 'acf': 7, 'abcdefg': 8, 'abcdfg': 9}\n",
    "    \n",
    "    encode_dict = {}\n",
    "    \n",
    "    from collections import Counter\n",
    "    counter = Counter()\n",
    "    \n",
    "    for code in unique_codes.split():\n",
    "\n",
    "        if len(code) == 2:\n",
    "            one = code\n",
    "        elif len(code) == 3:\n",
    "            seven = code\n",
    "        elif len(code) == 4:\n",
    "            four = code\n",
    "        elif len(code) == 7:\n",
    "            eight = code\n",
    "\n",
    "        counter.update(code)\n",
    "\n",
    "    encode_dict['a'] = list(set(seven) - set(one))[0]\n",
    "\n",
    "    f, _ = counter.most_common()[0]  # segment f appears 9 times (most common)\n",
    "    b, _ = counter.most_common()[-2] # segment b occurs 6 times (second least common)\n",
    "    e, _ = counter.most_common()[-1] # segment e occurs 4 times (least common)\n",
    "    encode_dict['f'] = f\n",
    "    encode_dict['b'] = b\n",
    "    encode_dict['e'] = e\n",
    "\n",
    "    # then we can work out the other segments by looking for differences    \n",
    "    encode_dict['c'] = list(set(one) - set(encode_dict['f']))[0]\n",
    "    encode_dict['d'] = list(set(four) - set([encode_dict['c'], encode_dict['b'], encode_dict['f']]))[0]\n",
    "\n",
    "    encode_dict['g'] = list(set(eight) - set(encode_dict.values()))[0]\n",
    "\n",
    "    unencode_dict = {v:k for k,v in encode_dict.items()}  # swap keys and values\n",
    "    \n",
    "    out_string = ''\n",
    "\n",
    "    for digit in digits.split():\n",
    "        unencoded_string = \"\".join(sorted([unencode_dict[char] for char in digit]))\n",
    "        out_string += str(digits_dict[unencoded_string])\n",
    "\n",
    "    return int(out_string) "
   ]
  },
  {
   "cell_type": "code",
   "execution_count": 7,
   "id": "3e9fdea8",
   "metadata": {},
   "outputs": [
    {
     "data": {
      "text/plain": [
       "5353"
      ]
     },
     "execution_count": 7,
     "metadata": {},
     "output_type": "execute_result"
    }
   ],
   "source": [
    "# check on simple test string - should be 5353\n",
    "day_8_test_simple = \"acedgfb cdfbe gcdfa fbcad dab cefabd cdfgeb eafb cagedb ab | cdfeb fcadb cdfeb cdbaf\"\n",
    "decode(day_8_test_simple)"
   ]
  },
  {
   "cell_type": "code",
   "execution_count": 8,
   "id": "d90f0189",
   "metadata": {},
   "outputs": [
    {
     "data": {
      "text/plain": [
       "61229"
      ]
     },
     "execution_count": 8,
     "metadata": {},
     "output_type": "execute_result"
    }
   ],
   "source": [
    "# run on each line of test data and sum - should be 61229\n",
    "# using a generator rather than a list\n",
    "sum((decode(line) for line in day_8_test.split(\"\\n\")))"
   ]
  },
  {
   "cell_type": "code",
   "execution_count": 9,
   "id": "6aef85a0",
   "metadata": {},
   "outputs": [
    {
     "data": {
      "text/plain": [
       "1011284"
      ]
     },
     "execution_count": 9,
     "metadata": {},
     "output_type": "execute_result"
    }
   ],
   "source": [
    "# run on each line of full data and sum\n",
    "sum((decode(line) for line in day_8.split(\"\\n\")))"
   ]
  }
 ],
 "metadata": {
  "kernelspec": {
   "display_name": "geoml",
   "language": "python",
   "name": "geoml"
  },
  "language_info": {
   "codemirror_mode": {
    "name": "ipython",
    "version": 3
   },
   "file_extension": ".py",
   "mimetype": "text/x-python",
   "name": "python",
   "nbconvert_exporter": "python",
   "pygments_lexer": "ipython3",
   "version": "3.9.7"
  }
 },
 "nbformat": 4,
 "nbformat_minor": 5
}
