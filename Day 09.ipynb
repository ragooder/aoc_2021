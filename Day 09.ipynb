{
 "cells": [
  {
   "cell_type": "markdown",
   "id": "eedf9c46",
   "metadata": {},
   "source": [
    "### Day 9\n",
    "Part 1: Find all of the low points on your heightmap. What is the sum of the risk levels of all low points on your heightmap?"
   ]
  },
  {
   "cell_type": "code",
   "execution_count": 1,
   "id": "a4f47f19",
   "metadata": {},
   "outputs": [],
   "source": [
    "import numpy as np"
   ]
  },
  {
   "cell_type": "code",
   "execution_count": 2,
   "id": "39cccbb6",
   "metadata": {},
   "outputs": [],
   "source": [
    "def calc_risk(in_string):\n",
    "    \n",
    "    arr = np.array([list(i) for i in in_string.split(\"\\n\")], dtype=int)\n",
    "    \n",
    "    diff_arr = np.zeros(shape=arr.shape, dtype=int)\n",
    "\n",
    "    diff_arr[0,:] += -1\n",
    "    diff_arr[-1,:] += -1\n",
    "    diff_arr[:,0] += -1\n",
    "    diff_arr[:,-1] += -1\n",
    "\n",
    "    diff_arr[:-1] += np.sign(arr[:-1] - arr[1:])\n",
    "    diff_arr[1:] += np.sign(arr[1:] - arr[:-1])\n",
    "    diff_arr[:,:-1] += np.sign(arr[:,:-1] - arr[:,1:])\n",
    "    diff_arr[:,1:] += np.sign(arr[:,1:] - arr[:,:-1])\n",
    "\n",
    "    return sum(arr[diff_arr == -4] + 1)  # look for values which equal -4 as they will be the minimums"
   ]
  },
  {
   "cell_type": "code",
   "execution_count": 3,
   "id": "5c528f14",
   "metadata": {},
   "outputs": [],
   "source": [
    "day_9_test = \"\"\"2199943210\n",
    "3987894921\n",
    "9856789892\n",
    "8767896789\n",
    "9899965678\"\"\""
   ]
  },
  {
   "cell_type": "code",
   "execution_count": 4,
   "id": "0624131b",
   "metadata": {},
   "outputs": [
    {
     "data": {
      "text/plain": [
       "15"
      ]
     },
     "execution_count": 4,
     "metadata": {},
     "output_type": "execute_result"
    }
   ],
   "source": [
    "# run on test data - should be 15\n",
    "calc_risk(day_9_test)"
   ]
  },
  {
   "cell_type": "code",
   "execution_count": 5,
   "id": "7b42dc71",
   "metadata": {},
   "outputs": [
    {
     "data": {
      "text/plain": [
       "465"
      ]
     },
     "execution_count": 5,
     "metadata": {},
     "output_type": "execute_result"
    }
   ],
   "source": [
    "# load on full data and test\n",
    "with open(\"inputs/day_09.txt\") as f:\n",
    "    day_9 = f.read()\n",
    "\n",
    "calc_risk(day_9)"
   ]
  },
  {
   "cell_type": "markdown",
   "id": "179ceec2",
   "metadata": {},
   "source": [
    "Part 2: What do you get if you multiply together the sizes of the three largest basins?"
   ]
  },
  {
   "cell_type": "code",
   "execution_count": 6,
   "id": "391d92d6",
   "metadata": {},
   "outputs": [],
   "source": [
    "# for each min point\n",
    "# need to find neighbours that are not ==9\n",
    "# add their coords to a set\n",
    "# then look at their neighbours\n",
    "# stop when set gets no bigger"
   ]
  },
  {
   "cell_type": "code",
   "execution_count": 7,
   "id": "9e9f0374",
   "metadata": {},
   "outputs": [],
   "source": [
    "# make a function to return neighbour coordinates\n",
    "def neighbours_below_9(in_arr, r, c):   # r = row, c = column\n",
    "    nr, nc = in_arr.shape   # number of rows and columns\n",
    "    neighbour_coords = []\n",
    "\n",
    "    if r+1 < nr and in_arr[r+1,c] < 9:\n",
    "        neighbour_coords.append((r+1,c))\n",
    "    if r-1 >= 0 and in_arr[r-1,c] < 9:\n",
    "        neighbour_coords.append((r-1,c))\n",
    "    if c+1 < nc and in_arr[r,c+1] < 9:\n",
    "        neighbour_coords.append((r,c+1))\n",
    "    if c-1 >= 0 and in_arr[r,c-1] < 9:\n",
    "        neighbour_coords.append((r,c-1))\n",
    "\n",
    "    return neighbour_coords"
   ]
  },
  {
   "cell_type": "code",
   "execution_count": 8,
   "id": "f0f20625",
   "metadata": {},
   "outputs": [],
   "source": [
    "# then make a function to find size of basin associated with that minimum\n",
    "def basin_size(arr, y, x):   \n",
    "    \n",
    "    coords_set = set([(y,x)])\n",
    "    in_size = 0\n",
    "    size = len(coords_set)\n",
    "\n",
    "    while in_size < size:\n",
    "        in_size = len(coords_set)\n",
    "        for y, x in list(coords_set):\n",
    "            coords_set.update(neighbours_below_9(arr, y, x))  # add neighbours to set\n",
    "        size = len(coords_set)\n",
    "\n",
    "    return len(coords_set)"
   ]
  },
  {
   "cell_type": "code",
   "execution_count": 9,
   "id": "45a9c9b4",
   "metadata": {},
   "outputs": [],
   "source": [
    "# full function for part 2 - could try to remove duplication from part 1... but would need to edit that function\n",
    "def calc_basin_product(in_string, details=False):\n",
    "    \n",
    "    # Part 1 (repeat)\n",
    "    arr = np.array([list(i) for i in in_string.split(\"\\n\")], dtype=int)\n",
    "    \n",
    "    diff_arr = np.zeros(shape=arr.shape, dtype=int)\n",
    "\n",
    "    diff_arr[0,:] += -1\n",
    "    diff_arr[-1,:] += -1\n",
    "    diff_arr[:,0] += -1\n",
    "    diff_arr[:,-1] += -1\n",
    "\n",
    "    diff_arr[:-1] += np.sign(arr[:-1] - arr[1:])\n",
    "    diff_arr[1:] += np.sign(arr[1:] - arr[:-1])\n",
    "    diff_arr[:,:-1] += np.sign(arr[:,:-1] - arr[:,1:])\n",
    "    diff_arr[:,1:] += np.sign(arr[:,1:] - arr[:,:-1])\n",
    "\n",
    "    # Part 2\n",
    "    ys, xs = np.where(diff_arr == -4)  # find coordinates of minimums\n",
    "    \n",
    "    basin_sizes = [basin_size(arr, i[0],i[1]) for i in zip(ys,xs)]  # calculate size of each basin\n",
    "    \n",
    "    if details:\n",
    "        for y, x, bs in zip(ys, xs, basin_sizes):\n",
    "            print(f\"Minimum point of {arr[y,x]} at y={y}, x={x}, Basin size={bs}\")\n",
    "        print(\"-----\")\n",
    "        \n",
    "    print(f\"Top 3 basin sizes: {sorted(basin_sizes, reverse=True)[:3]}\")  \n",
    "    \n",
    "    return np.product(sorted(basin_sizes, reverse=True)[:3]) # return product of top 3"
   ]
  },
  {
   "cell_type": "code",
   "execution_count": 10,
   "id": "e125b60e",
   "metadata": {},
   "outputs": [
    {
     "name": "stdout",
     "output_type": "stream",
     "text": [
      "Minimum point of 1 at y=0, x=1, Basin size=3\n",
      "Minimum point of 0 at y=0, x=9, Basin size=9\n",
      "Minimum point of 5 at y=2, x=2, Basin size=14\n",
      "Minimum point of 5 at y=4, x=6, Basin size=9\n",
      "-----\n",
      "Top 3 basin sizes: [14, 9, 9]\n"
     ]
    },
    {
     "data": {
      "text/plain": [
       "1134"
      ]
     },
     "execution_count": 10,
     "metadata": {},
     "output_type": "execute_result"
    }
   ],
   "source": [
    "# run on test data - should be 1134 (basin sizes 3,9,14,9)\n",
    "calc_basin_product(day_9_test, details=True)"
   ]
  },
  {
   "cell_type": "code",
   "execution_count": 11,
   "id": "354e14ec",
   "metadata": {},
   "outputs": [
    {
     "name": "stdout",
     "output_type": "stream",
     "text": [
      "Top 3 basin sizes: [113, 107, 105]\n"
     ]
    },
    {
     "data": {
      "text/plain": [
       "1269555"
      ]
     },
     "execution_count": 11,
     "metadata": {},
     "output_type": "execute_result"
    }
   ],
   "source": [
    "# run on full data - should be 1134\n",
    "calc_basin_product(day_9)"
   ]
  }
 ],
 "metadata": {
  "kernelspec": {
   "display_name": "geoml",
   "language": "python",
   "name": "geoml"
  },
  "language_info": {
   "codemirror_mode": {
    "name": "ipython",
    "version": 3
   },
   "file_extension": ".py",
   "mimetype": "text/x-python",
   "name": "python",
   "nbconvert_exporter": "python",
   "pygments_lexer": "ipython3",
   "version": "3.9.7"
  }
 },
 "nbformat": 4,
 "nbformat_minor": 5
}
