{
 "cells": [
  {
   "cell_type": "markdown",
   "id": "51ce9c90",
   "metadata": {},
   "source": [
    "### Day 10\n",
    "Part 1: Find the first illegal character in each corrupted line of the navigation subsystem. What is the total syntax error score for those errors?"
   ]
  },
  {
   "cell_type": "code",
   "execution_count": 1,
   "id": "3d338871",
   "metadata": {},
   "outputs": [],
   "source": [
    "day_10_test = \"\"\"[({(<(())[]>[[{[]{<()<>>\n",
    "[(()[<>])]({[<{<<[]>>(\n",
    "{([(<{}[<>[]}>{[]{[(<()>\n",
    "(((({<>}<{<{<>}{[]{[]{}\n",
    "[[<[([]))<([[{}[[()]]]\n",
    "[{[{({}]{}}([{[{{{}}([]\n",
    "{<[[]]>}<{[{[{[]{()[[[]\n",
    "[<(<(<(<{}))><([]([]()\n",
    "<{([([[(<>()){}]>(<<{{\n",
    "<{([{{}}[<[[[<>{}]]]>[]]\"\"\""
   ]
  },
  {
   "cell_type": "code",
   "execution_count": 2,
   "id": "68e6a08f",
   "metadata": {},
   "outputs": [],
   "source": [
    "# function to check if brackets are balanced and return first incorrect character\n",
    "def check_brackets(in_string, verbose=False):\n",
    "    \n",
    "    brackets_list =[]\n",
    "    bracket_pairs = {'(': ')', '[': ']', '{': '}', '<': '>'}\n",
    "    bracket_pairs_swap = {v:k for k,v in bracket_pairs.items()}\n",
    "    \n",
    "    bracket_vals = {')': 3, ']': 57, '}': 1197, '>': 25137}\n",
    "    \n",
    "    for char in in_string:\n",
    "        if char in bracket_pairs.keys():\n",
    "            brackets_list.append(char)\n",
    "            \n",
    "        elif char in bracket_pairs.values():\n",
    "            if len(brackets_list) == 0:  # don't think this bit of logic is required for this puzzle\n",
    "                if verbose == True:\n",
    "                    print(f\"Error: '{char}' encountered before '{bracket_pairs_swap[char]}', \"\\\n",
    "                    + f\"{bracket_vals[char]} added to score\")\n",
    "                return bracket_vals[char]\n",
    "            elif bracket_pairs_swap[char] == brackets_list[-1]:\n",
    "                      brackets_list.pop()\n",
    "            else:\n",
    "                if verbose == True:\n",
    "                    print(f\"Error: '{char}' encountered but '{bracket_pairs[brackets_list[-1]]}' expected, \" \\\n",
    "                    + f\"{bracket_vals[char]} added to score\")\n",
    "                return bracket_vals[char]\n",
    "    \n",
    "    # We can ignore incomplete strings for now...\n",
    "    \n",
    "    return 0"
   ]
  },
  {
   "cell_type": "code",
   "execution_count": 3,
   "id": "6192b15c",
   "metadata": {},
   "outputs": [],
   "source": [
    "# put it all into a function for part 1\n",
    "def part1(in_string, verbose=False):\n",
    "    score = 0 \n",
    "    for line in in_string.split(\"\\n\"):\n",
    "        score += check_brackets(line, verbose=verbose)\n",
    "    return score"
   ]
  },
  {
   "cell_type": "code",
   "execution_count": 4,
   "id": "d1fbd53f",
   "metadata": {},
   "outputs": [
    {
     "name": "stdout",
     "output_type": "stream",
     "text": [
      "Error: '}' encountered but ']' expected, 1197 added to score\n",
      "Error: ')' encountered but ']' expected, 3 added to score\n",
      "Error: ']' encountered but ')' expected, 57 added to score\n",
      "Error: ')' encountered but '>' expected, 3 added to score\n",
      "Error: '>' encountered but ']' expected, 25137 added to score\n"
     ]
    },
    {
     "data": {
      "text/plain": [
       "26397"
      ]
     },
     "execution_count": 4,
     "metadata": {},
     "output_type": "execute_result"
    }
   ],
   "source": [
    "# run on test data - should be 6+57+1197+25137 = 26397\n",
    "part1(day_10_test, verbose=True)"
   ]
  },
  {
   "cell_type": "code",
   "execution_count": 5,
   "id": "accf9ef1",
   "metadata": {},
   "outputs": [
    {
     "data": {
      "text/plain": [
       "358737"
      ]
     },
     "execution_count": 5,
     "metadata": {},
     "output_type": "execute_result"
    }
   ],
   "source": [
    "# load full data and run function\n",
    "with open(\"inputs/day_10.txt\") as f:\n",
    "    day_10 = f.read()\n",
    "\n",
    "part1(day_10)"
   ]
  },
  {
   "cell_type": "markdown",
   "id": "93037b02",
   "metadata": {},
   "source": [
    "Part 2: Find the completion string for each incomplete line, score the completion strings, and sort the scores. What is the middle score?"
   ]
  },
  {
   "cell_type": "code",
   "execution_count": 6,
   "id": "dd0fddb2",
   "metadata": {},
   "outputs": [],
   "source": [
    "# function to check if brackets are balanced and if strings are complete\n",
    "# returns the score for the required brackets to complete the string\n",
    "def check_brackets(in_string, verbose=False):\n",
    "    \n",
    "    brackets_list =[]\n",
    "    bracket_pairs = {'(': ')', '[': ']', '{': '}', '<': '>'}\n",
    "    bracket_pairs_swap = {v:k for k,v in bracket_pairs.items()}\n",
    "    \n",
    "    bracket_vals = {')': 1, ']': 2, '}': 3, '>': 4}\n",
    "    \n",
    "    for char in in_string:\n",
    "        if char in bracket_pairs.keys():\n",
    "            brackets_list.append(char)\n",
    "            \n",
    "        elif char in bracket_pairs.values():\n",
    "            if len(brackets_list) == 0:  # don't think this bit of logic is required for this puzzle\n",
    "                return 0\n",
    "            elif bracket_pairs_swap[char] == brackets_list[-1]:\n",
    "                brackets_list.pop()  \n",
    "            else:\n",
    "                return 0\n",
    "            \n",
    "    \n",
    "    # Now we need to focus on incomplete strings\n",
    "    if len(brackets_list) > 0:\n",
    "        required_brackets = [bracket_pairs[i] for i in brackets_list[::-1]]\n",
    "\n",
    "        score = 0\n",
    "        for bracket in required_brackets:\n",
    "            score = score * 5 + bracket_vals[bracket]\n",
    "        if verbose == True:\n",
    "            print(f\"incomplete string, {required_brackets} expected, score = {score} points\")\n",
    "    \n",
    "    return score"
   ]
  },
  {
   "cell_type": "code",
   "execution_count": 7,
   "id": "0b46ef2a",
   "metadata": {},
   "outputs": [],
   "source": [
    "# make a function for part 2 - to return median score\n",
    "def part2(in_string, verbose=False):\n",
    "    import numpy as np    \n",
    "    \n",
    "    scores = []\n",
    "    for line in in_string.split(\"\\n\"):\n",
    "        score = check_brackets(line, verbose=verbose)\n",
    "        if score > 0:\n",
    "            scores.append(score)\n",
    "        \n",
    "    return int(np.median(np.array(scores)))"
   ]
  },
  {
   "cell_type": "code",
   "execution_count": 8,
   "id": "c5b48f06",
   "metadata": {},
   "outputs": [
    {
     "name": "stdout",
     "output_type": "stream",
     "text": [
      "incomplete string, ['}', '}', ']', ']', ')', '}', ')', ']'] expected, score = 288957 points\n",
      "incomplete string, [')', '}', '>', ']', '}', ')'] expected, score = 5566 points\n",
      "incomplete string, ['}', '}', '>', '}', '>', ')', ')', ')', ')'] expected, score = 1480781 points\n",
      "incomplete string, [']', ']', '}', '}', ']', '}', ']', '}', '>'] expected, score = 995444 points\n",
      "incomplete string, [']', ')', '}', '>'] expected, score = 294 points\n"
     ]
    },
    {
     "data": {
      "text/plain": [
       "288957"
      ]
     },
     "execution_count": 8,
     "metadata": {},
     "output_type": "execute_result"
    }
   ],
   "source": [
    "# run on test data, should be 288957\n",
    "part2(day_10_test, verbose=True)"
   ]
  },
  {
   "cell_type": "code",
   "execution_count": 9,
   "id": "4991604d",
   "metadata": {},
   "outputs": [
    {
     "data": {
      "text/plain": [
       "4329504793"
      ]
     },
     "execution_count": 9,
     "metadata": {},
     "output_type": "execute_result"
    }
   ],
   "source": [
    "# run on full data\n",
    "part2(day_10)"
   ]
  }
 ],
 "metadata": {
  "kernelspec": {
   "display_name": "geoml",
   "language": "python",
   "name": "geoml"
  },
  "language_info": {
   "codemirror_mode": {
    "name": "ipython",
    "version": 3
   },
   "file_extension": ".py",
   "mimetype": "text/x-python",
   "name": "python",
   "nbconvert_exporter": "python",
   "pygments_lexer": "ipython3",
   "version": "3.9.7"
  }
 },
 "nbformat": 4,
 "nbformat_minor": 5
}
