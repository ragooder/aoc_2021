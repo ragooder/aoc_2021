{
 "cells": [
  {
   "cell_type": "markdown",
   "id": "3918a65c",
   "metadata": {},
   "source": [
    "### Day 3"
   ]
  },
  {
   "cell_type": "markdown",
   "id": "9160bfa0",
   "metadata": {},
   "source": [
    "Part 1: Use the binary numbers in your diagnostic report to calculate the gamma rate and epsilon rate, then multiply them together. What is the power consumption of the submarine? (Be sure to represent your answer in decimal, not binary.)"
   ]
  },
  {
   "cell_type": "code",
   "execution_count": 1,
   "id": "030ac93a",
   "metadata": {},
   "outputs": [],
   "source": [
    "# let's make a function\n",
    "\n",
    "def compute_power_comsump(in_string):\n",
    "    import numpy as np\n",
    "    \n",
    "    in_string_list = in_string.split('\\n')\n",
    "    \n",
    "    in_arr = (np.array([int(char) for line in in_string_list for char in line])\n",
    "              .reshape(-1, len(in_string_list[0])))\n",
    "    \n",
    "    gamma_list = []\n",
    "    for i in range(in_arr.shape[1]):\n",
    "        if np.sum(in_arr[:,i]) >= in_arr.shape[0] / 2:\n",
    "            gamma_list.append(\"1\") \n",
    "        else:\n",
    "            gamma_list.append(\"0\")\n",
    "    \n",
    "    epsilon_list = [\"0\" if x == '1' else \"1\" for x in gamma_list]\n",
    "    \n",
    "    gamma_int = int(\"\".join(gamma_list), 2)\n",
    "    epsilon_int = int(\"\".join(epsilon_list), 2)\n",
    "    \n",
    "    print(f\"gamma = {gamma_int}, epsilon = {epsilon_int}\")\n",
    "    \n",
    "    return gamma_int * epsilon_int"
   ]
  },
  {
   "cell_type": "code",
   "execution_count": 2,
   "id": "676ec8e7",
   "metadata": {},
   "outputs": [
    {
     "data": {
      "text/plain": [
       "'00100\\n11110\\n10110\\n10111\\n10101\\n01111\\n00111\\n11100\\n10000\\n11001\\n00010\\n01010'"
      ]
     },
     "execution_count": 2,
     "metadata": {},
     "output_type": "execute_result"
    }
   ],
   "source": [
    "# import test data\n",
    "\n",
    "day_3_test = \"\"\"00100\n",
    "11110\n",
    "10110\n",
    "10111\n",
    "10101\n",
    "01111\n",
    "00111\n",
    "11100\n",
    "10000\n",
    "11001\n",
    "00010\n",
    "01010\"\"\"\n",
    "\n",
    "day_3_test"
   ]
  },
  {
   "cell_type": "code",
   "execution_count": 3,
   "id": "fbadbf6e",
   "metadata": {},
   "outputs": [
    {
     "name": "stdout",
     "output_type": "stream",
     "text": [
      "gamma = 22, epsilon = 9\n"
     ]
    },
    {
     "data": {
      "text/plain": [
       "198"
      ]
     },
     "execution_count": 3,
     "metadata": {},
     "output_type": "execute_result"
    }
   ],
   "source": [
    "# test data should be gamma = 22, epsilon = 9, product = 198\n",
    "compute_power_comsump(day_3_test)"
   ]
  },
  {
   "cell_type": "code",
   "execution_count": 4,
   "id": "b37bdb02",
   "metadata": {},
   "outputs": [
    {
     "data": {
      "text/plain": [
       "'011110111110\\n110111000111\\n001000001010\\n000101111101\\n101011011110\\n010010010111\\n111101001100\\n111101011'"
      ]
     },
     "execution_count": 4,
     "metadata": {},
     "output_type": "execute_result"
    }
   ],
   "source": [
    "# load full data for day 2\n",
    "with open('inputs/day_03.txt') as f:\n",
    "    day_3 = f.read()\n",
    "    \n",
    "day_3[:100]"
   ]
  },
  {
   "cell_type": "code",
   "execution_count": 5,
   "id": "2d180fcb",
   "metadata": {},
   "outputs": [
    {
     "name": "stdout",
     "output_type": "stream",
     "text": [
      "gamma = 3875, epsilon = 220\n"
     ]
    },
    {
     "data": {
      "text/plain": [
       "852500"
      ]
     },
     "execution_count": 5,
     "metadata": {},
     "output_type": "execute_result"
    }
   ],
   "source": [
    "# run through function\n",
    "compute_power_comsump(day_3)"
   ]
  },
  {
   "cell_type": "markdown",
   "id": "a2bccaf7",
   "metadata": {},
   "source": [
    "Part 2: Use the binary numbers in your diagnostic report to calculate the oxygen generator rating and CO2 scrubber rating, then multiply them together. What is the life support rating of the submarine? (Be sure to represent your answer in decimal, not binary.)"
   ]
  },
  {
   "cell_type": "code",
   "execution_count": 6,
   "id": "3f7397ad",
   "metadata": {},
   "outputs": [],
   "source": [
    "# let's make a new function\n",
    "\n",
    "def compute_life_support(in_string):\n",
    "    import numpy as np\n",
    "    \n",
    "    in_string_list = in_string.split('\\n')\n",
    "    \n",
    "    in_arr = (np.array([int(char) for line in in_string_list for char in line])\n",
    "              .reshape(-1, len(in_string_list[0])))\n",
    "    \n",
    "    oxygen_arr = in_arr\n",
    "    co2_arr = in_arr\n",
    "\n",
    "    # do calculations for oxygen\n",
    "    most_common_digit = 0\n",
    "    for i in range(oxygen_arr.shape[1]):\n",
    "        if np.sum(oxygen_arr[:,i]) >= oxygen_arr.shape[0] / 2:\n",
    "            most_common_digit = 1\n",
    "        else:\n",
    "            most_common_digit = 0\n",
    "\n",
    "        oxygen_arr = oxygen_arr[oxygen_arr[:,i] == most_common_digit]\n",
    "        if oxygen_arr.shape[0] == 1:\n",
    "            break\n",
    "    \n",
    "    # do calculations for co2\n",
    "    least_common_digit = 0\n",
    "    for i in range(co2_arr.shape[1]):\n",
    "        if np.sum(co2_arr[:,i]) >= co2_arr.shape[0] / 2:\n",
    "            least_common_digit = 0\n",
    "        else:\n",
    "            least_common_digit = 1\n",
    "\n",
    "        co2_arr = co2_arr[co2_arr[:,i] == least_common_digit]\n",
    "        if co2_arr.shape[0] == 1:\n",
    "            break\n",
    "    \n",
    "    oxygen_string_list = [str(i) for i in oxygen_arr.squeeze()]    \n",
    "    oxygen_int = int(\"\".join(oxygen_string_list), 2)\n",
    "    \n",
    "    co2_string_list = [str(i) for i in co2_arr.squeeze()]    \n",
    "    co2_int = int(\"\".join(co2_string_list), 2)\n",
    "    \n",
    "    print(f\"oxygen = {oxygen_int}, CO2 = {co2_int}\")\n",
    "    \n",
    "    return oxygen_int * co2_int"
   ]
  },
  {
   "cell_type": "code",
   "execution_count": 7,
   "id": "abef553d",
   "metadata": {},
   "outputs": [
    {
     "name": "stdout",
     "output_type": "stream",
     "text": [
      "oxygen = 23, CO2 = 10\n"
     ]
    },
    {
     "data": {
      "text/plain": [
       "230"
      ]
     },
     "execution_count": 7,
     "metadata": {},
     "output_type": "execute_result"
    }
   ],
   "source": [
    "# run with test data, oxygen should = 23, CO2 = 10, product = 230\n",
    "compute_life_support(day_3_test)"
   ]
  },
  {
   "cell_type": "code",
   "execution_count": 8,
   "id": "a89a863e",
   "metadata": {},
   "outputs": [
    {
     "name": "stdout",
     "output_type": "stream",
     "text": [
      "oxygen = 2235, CO2 = 451\n"
     ]
    },
    {
     "data": {
      "text/plain": [
       "1007985"
      ]
     },
     "execution_count": 8,
     "metadata": {},
     "output_type": "execute_result"
    }
   ],
   "source": [
    "# run on full data\n",
    "compute_life_support(day_3)"
   ]
  }
 ],
 "metadata": {
  "kernelspec": {
   "display_name": "geoml",
   "language": "python",
   "name": "geoml"
  },
  "language_info": {
   "codemirror_mode": {
    "name": "ipython",
    "version": 3
   },
   "file_extension": ".py",
   "mimetype": "text/x-python",
   "name": "python",
   "nbconvert_exporter": "python",
   "pygments_lexer": "ipython3",
   "version": "3.9.7"
  }
 },
 "nbformat": 4,
 "nbformat_minor": 5
}
