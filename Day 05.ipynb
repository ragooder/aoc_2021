{
 "cells": [
  {
   "cell_type": "markdown",
   "id": "a137c371",
   "metadata": {},
   "source": [
    "### Day 5\n",
    "Part 1: Consider only horizontal and vertical lines. At how many points do at least two lines overlap?"
   ]
  },
  {
   "cell_type": "code",
   "execution_count": 1,
   "id": "95d85eb5",
   "metadata": {},
   "outputs": [],
   "source": [
    "# let's make a function\n",
    "def calc_overlapping_vents_hv(in_string):\n",
    "\n",
    "    import re\n",
    "    pattern = r\"(\\d+),(\\d+) -> (\\d+),(\\d+)\"\n",
    "    \n",
    "    vents_dict = {}\n",
    "\n",
    "    for line in in_string.split(\"\\n\"):\n",
    "        x1, y1, x2, y2 = [int(i) for i in re.findall(pattern, line)[0]]\n",
    "\n",
    "        if x1 == x2:   # vertical lines\n",
    "            y_min = min(y1, y2)\n",
    "            y_max = max(y1, y2) + 1\n",
    "            for y in range(y_min, y_max):\n",
    "                vents_dict[(x1, y)] = vents_dict.get((x1, y), 0) + 1\n",
    "\n",
    "        elif y1 == y2:   # horizontal lines\n",
    "            x_min = min(x1, x2)\n",
    "            x_max = max(x1, x2) + 1\n",
    "            for x in range(x_min, x_max):\n",
    "                vents_dict[(x, y1)] = vents_dict.get((x, y1), 0) + 1\n",
    "\n",
    "    return sum([1 for v in vents_dict.values() if v >= 2])  # number of points with 2 or more vents"
   ]
  },
  {
   "cell_type": "code",
   "execution_count": 2,
   "id": "b81e2d00",
   "metadata": {},
   "outputs": [],
   "source": [
    "# import test data\n",
    "day_5_test = \"\"\"0,9 -> 5,9\n",
    "8,0 -> 0,8\n",
    "9,4 -> 3,4\n",
    "2,2 -> 2,1\n",
    "7,0 -> 7,4\n",
    "6,4 -> 2,0\n",
    "0,9 -> 2,9\n",
    "3,4 -> 1,4\n",
    "0,0 -> 8,8\n",
    "5,5 -> 8,2\"\"\""
   ]
  },
  {
   "cell_type": "code",
   "execution_count": 3,
   "id": "54684c49",
   "metadata": {},
   "outputs": [
    {
     "data": {
      "text/plain": [
       "5"
      ]
     },
     "execution_count": 3,
     "metadata": {},
     "output_type": "execute_result"
    }
   ],
   "source": [
    "# test on test data - should = 5 (overlapping points)\n",
    "calc_overlapping_vents_hv(day_5_test)"
   ]
  },
  {
   "cell_type": "code",
   "execution_count": 4,
   "id": "afb21f29",
   "metadata": {},
   "outputs": [
    {
     "data": {
      "text/plain": [
       "'365,809 -> 365,271\\n899,814 -> 899,921\\n967,913 -> 4'"
      ]
     },
     "execution_count": 4,
     "metadata": {},
     "output_type": "execute_result"
    }
   ],
   "source": [
    "# load full data\n",
    "with open('inputs/day_05.txt') as f:\n",
    "    day_5 = f.read()\n",
    "    \n",
    "day_5[:50]"
   ]
  },
  {
   "cell_type": "code",
   "execution_count": 5,
   "id": "b6c856f9",
   "metadata": {},
   "outputs": [
    {
     "data": {
      "text/plain": [
       "6710"
      ]
     },
     "execution_count": 5,
     "metadata": {},
     "output_type": "execute_result"
    }
   ],
   "source": [
    "# run on full data\n",
    "calc_overlapping_vents_hv(day_5)"
   ]
  },
  {
   "cell_type": "markdown",
   "id": "c51d4f4d",
   "metadata": {},
   "source": [
    "Part 2: Consider all of the lines. At how many points do at least two lines overlap?"
   ]
  },
  {
   "cell_type": "code",
   "execution_count": 6,
   "id": "349e8afa",
   "metadata": {},
   "outputs": [],
   "source": [
    "def calc_overlapping_vents(in_string):\n",
    "    import numpy as np\n",
    "    import re\n",
    "    pattern = r\"(\\d+),(\\d+) -> (\\d+),(\\d+)\"\n",
    "    \n",
    "    vents_dict = {}\n",
    "\n",
    "    for line in in_string.split(\"\\n\"):\n",
    "        x1, y1, x2, y2 = [int(i) for i in re.findall(pattern, line)[0]]\n",
    "\n",
    "        if x1 == x2:  # vertical lines\n",
    "            y_min = min(y1, y2)\n",
    "            y_max = max(y1, y2) + 1\n",
    "            for y in range(y_min, y_max):\n",
    "                vents_dict[(x1, y)] = vents_dict.get((x1, y), 0) + 1\n",
    "\n",
    "        elif y1 == y2:  # horizontal lines\n",
    "            x_min = min(x1, x2)\n",
    "            x_max = max(x1, x2) + 1\n",
    "            for x in range(x_min, x_max):\n",
    "                vents_dict[(x, y1)] = vents_dict.get((x, y1), 0) + 1\n",
    "                \n",
    "        else:  # 45 degree lines\n",
    "            x_points = max(x1, x2) - min(x1, x2) + 1\n",
    "            y_points = max(y1, y2) - min(y1, y2) + 1 \n",
    "            for x, y in zip(np.linspace(x1, x2, x_points, dtype=int), np.linspace(y1, y2, y_points, dtype=int)):\n",
    "                vents_dict[(x, y)] = vents_dict.get((x, y), 0) + 1\n",
    "\n",
    "    return sum([1 for v in vents_dict.values() if v >= 2])   # number of points with 2 or more vents"
   ]
  },
  {
   "cell_type": "code",
   "execution_count": 7,
   "id": "edb129c2",
   "metadata": {},
   "outputs": [
    {
     "data": {
      "text/plain": [
       "12"
      ]
     },
     "execution_count": 7,
     "metadata": {},
     "output_type": "execute_result"
    }
   ],
   "source": [
    "# run on test data - should = 12\n",
    "calc_overlapping_vents(day_5_test)"
   ]
  },
  {
   "cell_type": "code",
   "execution_count": 8,
   "id": "f16c11ba",
   "metadata": {},
   "outputs": [
    {
     "data": {
      "text/plain": [
       "20121"
      ]
     },
     "execution_count": 8,
     "metadata": {},
     "output_type": "execute_result"
    }
   ],
   "source": [
    "# run on full data\n",
    "calc_overlapping_vents(day_5)"
   ]
  }
 ],
 "metadata": {
  "kernelspec": {
   "display_name": "geoml",
   "language": "python",
   "name": "geoml"
  },
  "language_info": {
   "codemirror_mode": {
    "name": "ipython",
    "version": 3
   },
   "file_extension": ".py",
   "mimetype": "text/x-python",
   "name": "python",
   "nbconvert_exporter": "python",
   "pygments_lexer": "ipython3",
   "version": "3.9.7"
  }
 },
 "nbformat": 4,
 "nbformat_minor": 5
}
