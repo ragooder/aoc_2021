{
 "cells": [
  {
   "cell_type": "markdown",
   "id": "9fc1a8c4",
   "metadata": {},
   "source": [
    "### Day 4"
   ]
  },
  {
   "cell_type": "markdown",
   "id": "fa249935",
   "metadata": {},
   "source": [
    "Part 1: Figure out which board will win first. What will your final score be if you choose that board?"
   ]
  },
  {
   "cell_type": "code",
   "execution_count": 1,
   "id": "629f566c",
   "metadata": {},
   "outputs": [],
   "source": [
    "import numpy as np"
   ]
  },
  {
   "cell_type": "code",
   "execution_count": 2,
   "id": "5f3c0790",
   "metadata": {},
   "outputs": [],
   "source": [
    "# function for part 1 - load data, track boards - stop when 1 board has won and calculate sum and product\n",
    "def calc_winning_score(nums_string, boards_string):\n",
    "    \n",
    "    nums = [int(x) for x in nums_string.split(\",\")]\n",
    "    \n",
    "    boards_str_split = [y.split() for x in boards_string.split(\"\\n\\n\") for y in x.split(\"\\n\")]\n",
    "    boards = np.array(boards_str_split, dtype=int).reshape(-1,5,5)\n",
    "\n",
    "    boards_tracker = np.zeros(shape=boards.shape, dtype=int)\n",
    "\n",
    "    for num in nums:\n",
    "        for i in range(boards.shape[0]):\n",
    "            boards_tracker[i] += boards[i] == num\n",
    "\n",
    "            if max(boards_tracker[i].sum(axis=0)) == 5 or max(boards_tracker[i].sum(axis=1)) == 5:\n",
    "                print(f\"board number {i} has won:\")\n",
    "                print(boards[i])\n",
    "                print(boards_tracker[i])\n",
    "                unmarked_sum = sum(boards[i][boards_tracker[i] == 0])\n",
    "                print(unmarked_sum)\n",
    "                product = unmarked_sum * num\n",
    "                return product"
   ]
  },
  {
   "cell_type": "code",
   "execution_count": 3,
   "id": "02f3fdd1",
   "metadata": {},
   "outputs": [],
   "source": [
    "# load test data\n",
    "day_4_test_nums = '7,4,9,5,11,17,23,2,0,14,21,24,10,16,13,6,15,25,12,22,18,20,8,19,3,26,1'\n",
    "\n",
    "day_4_test_boards = \"\"\"22 13 17 11  0\n",
    " 8  2 23  4 24\n",
    "21  9 14 16  7\n",
    " 6 10  3 18  5\n",
    " 1 12 20 15 19\n",
    "\n",
    " 3 15  0  2 22\n",
    " 9 18 13 17  5\n",
    "19  8  7 25 23\n",
    "20 11 10 24  4\n",
    "14 21 16 12  6\n",
    "\n",
    "14 21 17 24  4\n",
    "10 16 15  9 19\n",
    "18  8 23 26 20\n",
    "22 11 13  6  5\n",
    " 2  0 12  3  7\"\"\""
   ]
  },
  {
   "cell_type": "code",
   "execution_count": 4,
   "id": "a9b554dc",
   "metadata": {
    "scrolled": true
   },
   "outputs": [
    {
     "name": "stdout",
     "output_type": "stream",
     "text": [
      "board number 2 has won:\n",
      "[[14 21 17 24  4]\n",
      " [10 16 15  9 19]\n",
      " [18  8 23 26 20]\n",
      " [22 11 13  6  5]\n",
      " [ 2  0 12  3  7]]\n",
      "[[1 1 1 1 1]\n",
      " [0 0 0 1 0]\n",
      " [0 0 1 0 0]\n",
      " [0 1 0 0 1]\n",
      " [1 1 0 0 1]]\n",
      "188\n"
     ]
    },
    {
     "data": {
      "text/plain": [
       "4512"
      ]
     },
     "execution_count": 4,
     "metadata": {},
     "output_type": "execute_result"
    }
   ],
   "source": [
    "# test function on test data, sum should be 188 and product = 4512\n",
    "calc_winning_score(day_4_test_nums, day_4_test_boards)"
   ]
  },
  {
   "cell_type": "code",
   "execution_count": 5,
   "id": "97021833",
   "metadata": {},
   "outputs": [],
   "source": [
    "# load full data \n",
    "with open('inputs/day_04_nums.txt') as f:\n",
    "    day_4_nums = f.read()\n",
    "    \n",
    "with open('inputs/day_04_boards.txt') as f:\n",
    "    day_4_boards = f.read()"
   ]
  },
  {
   "cell_type": "code",
   "execution_count": 6,
   "id": "bbceddfb",
   "metadata": {},
   "outputs": [
    {
     "name": "stdout",
     "output_type": "stream",
     "text": [
      "board number 71 has won:\n",
      "[[60 31 29 49 72]\n",
      " [89 41  5 79 22]\n",
      " [58 28 90 76 95]\n",
      " [93 45 14 47 37]\n",
      " [65 25  7 59 62]]\n",
      "[[0 1 0 0 0]\n",
      " [0 1 0 0 0]\n",
      " [0 1 0 0 0]\n",
      " [0 1 0 0 0]\n",
      " [0 1 0 0 0]]\n",
      "1108\n"
     ]
    },
    {
     "data": {
      "text/plain": [
       "49860"
      ]
     },
     "execution_count": 6,
     "metadata": {},
     "output_type": "execute_result"
    }
   ],
   "source": [
    "# run through function for part 1\n",
    "calc_winning_score(day_4_nums, day_4_boards)"
   ]
  },
  {
   "cell_type": "markdown",
   "id": "213391a7",
   "metadata": {},
   "source": [
    "Part 2: Figure out which board will win last. Once it wins, what would its final score be?"
   ]
  },
  {
   "cell_type": "code",
   "execution_count": 7,
   "id": "dd3108ec",
   "metadata": {},
   "outputs": [],
   "source": [
    "# function for part 2\n",
    "def calc_last_winning_score(nums_string, boards_string):\n",
    "    \n",
    "    nums = [int(x) for x in nums_string.split(\",\")]\n",
    "    \n",
    "    boards_str_split = [y.split() for x in boards_string.split(\"\\n\\n\") for y in x.split(\"\\n\")]\n",
    "    boards = np.array(boards_str_split, dtype=int).reshape(-1,5,5)\n",
    "\n",
    "    boards_tracker = np.zeros(shape=boards.shape, dtype=int)\n",
    "    \n",
    "    boards_list = list(range(boards.shape[0]))\n",
    "\n",
    "    for num in nums:\n",
    "        boards_won = []\n",
    "        #print(num)\n",
    "        for i in boards_list:\n",
    "            boards_tracker[i] += boards[i] == num\n",
    "\n",
    "            if max(boards_tracker[i].sum(axis=0)) == 5 or max(boards_tracker[i].sum(axis=1)) == 5:\n",
    "                #print(f\"board number {i} has won, after {num} was drawn\")\n",
    "                boards_won.append(i)\n",
    "                #print(boards[i])\n",
    "                #print(boards_tracker[i])\n",
    "            \n",
    "        for b in boards_won:\n",
    "            boards_list.remove(b)\n",
    "            \n",
    "        if len(boards_list) == 0:\n",
    "            last_board = boards_won[-1]\n",
    "            print(f\"The last board to win was number {last_board}, after {num} was drawn\")\n",
    "            unmarked_sum = sum(boards[last_board][boards_tracker[last_board] == 0])\n",
    "            #print(unmarked_sum)\n",
    "            #print(num)\n",
    "        \n",
    "            return unmarked_sum * num"
   ]
  },
  {
   "cell_type": "code",
   "execution_count": 8,
   "id": "cd048087",
   "metadata": {},
   "outputs": [
    {
     "name": "stdout",
     "output_type": "stream",
     "text": [
      "The last board to win was number 1, after 13 was drawn\n"
     ]
    },
    {
     "data": {
      "text/plain": [
       "1924"
      ]
     },
     "execution_count": 8,
     "metadata": {},
     "output_type": "execute_result"
    }
   ],
   "source": [
    "# run on test data, \n",
    "# 2nd board (index 1) is last to win after 13 was drawn, final answer should be 1924\n",
    "calc_last_winning_score(day_4_test_nums, day_4_test_boards)"
   ]
  },
  {
   "cell_type": "code",
   "execution_count": 9,
   "id": "d2858ae9",
   "metadata": {},
   "outputs": [
    {
     "name": "stdout",
     "output_type": "stream",
     "text": [
      "The last board to win was number 22, after 94 was drawn\n"
     ]
    },
    {
     "data": {
      "text/plain": [
       "24628"
      ]
     },
     "execution_count": 9,
     "metadata": {},
     "output_type": "execute_result"
    }
   ],
   "source": [
    "# run on full data\n",
    "calc_last_winning_score(day_4_nums, day_4_boards)"
   ]
  }
 ],
 "metadata": {
  "kernelspec": {
   "display_name": "geoml",
   "language": "python",
   "name": "geoml"
  },
  "language_info": {
   "codemirror_mode": {
    "name": "ipython",
    "version": 3
   },
   "file_extension": ".py",
   "mimetype": "text/x-python",
   "name": "python",
   "nbconvert_exporter": "python",
   "pygments_lexer": "ipython3",
   "version": "3.9.7"
  }
 },
 "nbformat": 4,
 "nbformat_minor": 5
}
