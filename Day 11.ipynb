{
 "cells": [
  {
   "cell_type": "markdown",
   "id": "8591892a",
   "metadata": {},
   "source": [
    "### Day 11\n",
    "Part 1: Given the starting energy levels of the dumbo octopuses in your cavern, simulate 100 steps. How many total flashes are there after 100 steps?"
   ]
  },
  {
   "cell_type": "code",
   "execution_count": 1,
   "id": "26d11cd9",
   "metadata": {},
   "outputs": [],
   "source": [
    "# let's create some functions\n",
    "\n",
    "import numpy as np\n",
    "\n",
    "def execute_flash(in_arr, r, c):\n",
    "    \"\"\"\n",
    "    Add 1 to all 8 surrounding neighbours in an array \n",
    "    This ended up as a bit of a bodge job, could be improved...\n",
    "    \"\"\"\n",
    "    in_arr[r,c] -= 1  # first subtract 1 from that point, then add 1 to it and neighbours\n",
    "    \n",
    "    dr = dc = 2\n",
    "    if r-1 < 0: r = dr = 1  # deal with the edge cases (don't want to have negative values in slices)\n",
    "    if c-1 < 0: c = dc = 1\n",
    "\n",
    "    sub_arr = in_arr[r-1:r+dr, c-1:c+dc]   # create sub array of cell and neighbours (respecting edge cases)\n",
    "    flash_add = np.ones(sub_arr.shape, dtype=int)  # create array of 1s\n",
    "    in_arr[r-1:r+dr, c-1:c+dc] = sub_arr + flash_add  # add array of 1s to sub array and replace those cells in in array\n",
    "\n",
    "    return in_arr\n",
    "\n",
    "\n",
    "def execute_steps(in_string, n_steps, stop_all_flash=False):\n",
    "    \"\"\"\n",
    "    Convert string to array, the for each step: add 1 to all cells in array, and flash octopuses\n",
    "    Report total number of flashes and return final array\n",
    "    \"\"\"\n",
    "    arr = np.array([list(i) for i in in_string.split(\"\\n\")], dtype=int)\n",
    "    n_flashed = 0\n",
    "    \n",
    "    for step in range(n_steps):\n",
    "        # increase all cells by 1\n",
    "        arr += 1\n",
    "        \n",
    "        # create flash array with zeros\n",
    "        flash_arr = np.zeros(shape=arr.shape, dtype=int)\n",
    "        flash_arr[arr > 9] = 1\n",
    "        octopuses_flashing = np.sum(flash_arr == 1)\n",
    "        n_flashed += octopuses_flashing  # add to total sum\n",
    "\n",
    "        # if octopuses need to flash\n",
    "        while octopuses_flashing > 0:           \n",
    "            # get coords for flashing\n",
    "            flash_rows, flash_cols = np.where(flash_arr == 1)\n",
    "\n",
    "            # flash those octopuses\n",
    "            for row, col in zip(flash_rows, flash_cols):\n",
    "                arr = execute_flash(arr, row, col) \n",
    "                \n",
    "            # check again at end of loop\n",
    "            flash_arr[arr > 9] += 1\n",
    "            octopuses_flashing = np.sum(flash_arr == 1)\n",
    "            n_flashed += octopuses_flashing  # add to total sum\n",
    "    \n",
    "        # set any values above 10 to 0\n",
    "        arr[arr > 9] = 0\n",
    "        \n",
    "        # for part 2\n",
    "        if stop_all_flash:\n",
    "            if np.sum(flash_arr == 0) == 0:\n",
    "                print(f\"Stopped at step {step+1} as all octopuses flashed!\")\n",
    "                return arr\n",
    "            \n",
    "    print(f\"The total number of octopus flashes is {n_flashed}\")\n",
    "    return arr"
   ]
  },
  {
   "cell_type": "code",
   "execution_count": 2,
   "id": "00b033aa",
   "metadata": {},
   "outputs": [],
   "source": [
    "day_11_test = \"\"\"5483143223\n",
    "2745854711\n",
    "5264556173\n",
    "6141336146\n",
    "6357385478\n",
    "4167524645\n",
    "2176841721\n",
    "6882881134\n",
    "4846848554\n",
    "5283751526\"\"\""
   ]
  },
  {
   "cell_type": "code",
   "execution_count": 3,
   "id": "5a84a5e0",
   "metadata": {},
   "outputs": [
    {
     "name": "stdout",
     "output_type": "stream",
     "text": [
      "After 1 steps: The total number of octopus flashes is 0\n",
      "After 2 steps: The total number of octopus flashes is 35\n",
      "After 10 steps: The total number of octopus flashes is 204\n",
      "After 100 steps: The total number of octopus flashes is 1656\n"
     ]
    }
   ],
   "source": [
    "# run on test data - should be: \n",
    "# 0 after 1 step, 35 after 2 steps, 2014 after 10 steps and 1656 after 100 steps\n",
    "steps = [1, 2, 10, 100]\n",
    "for s in steps:\n",
    "    print(f\"After {s} steps: \", end=\"\")\n",
    "    _ = execute_steps(day_11_test, s)"
   ]
  },
  {
   "cell_type": "code",
   "execution_count": 4,
   "id": "b65be76e",
   "metadata": {},
   "outputs": [
    {
     "name": "stdout",
     "output_type": "stream",
     "text": [
      "The total number of octopus flashes is 1675\n"
     ]
    },
    {
     "data": {
      "text/plain": [
       "array([[7, 9, 0, 0, 0, 0, 8, 6, 5, 5],\n",
       "       [9, 3, 5, 0, 0, 4, 2, 8, 6, 5],\n",
       "       [2, 2, 3, 6, 3, 2, 1, 1, 8, 6],\n",
       "       [2, 2, 2, 4, 1, 1, 1, 1, 1, 8],\n",
       "       [3, 3, 2, 3, 5, 1, 1, 1, 1, 1],\n",
       "       [1, 4, 2, 2, 3, 5, 1, 1, 1, 1],\n",
       "       [1, 4, 2, 2, 2, 3, 5, 1, 1, 1],\n",
       "       [8, 3, 2, 2, 2, 2, 3, 6, 1, 1],\n",
       "       [6, 8, 2, 2, 2, 2, 3, 6, 3, 2],\n",
       "       [5, 6, 8, 2, 2, 2, 3, 0, 0, 2]])"
      ]
     },
     "execution_count": 4,
     "metadata": {},
     "output_type": "execute_result"
    }
   ],
   "source": [
    "# load and run on full data\n",
    "with open(\"inputs/day_11.txt\") as f:\n",
    "    day_11 = f.read()\n",
    "    \n",
    "execute_steps(day_11, 100)"
   ]
  },
  {
   "cell_type": "markdown",
   "id": "a47961a9",
   "metadata": {},
   "source": [
    "Part 2: If you can calculate the exact moments when the octopuses will all flash simultaneously, you should be able to navigate through the cavern. What is the first step during which all octopuses flash?"
   ]
  },
  {
   "cell_type": "code",
   "execution_count": 5,
   "id": "483685ce",
   "metadata": {},
   "outputs": [
    {
     "name": "stdout",
     "output_type": "stream",
     "text": [
      "Stopped at step 195 as all octopuses flashed!\n"
     ]
    },
    {
     "data": {
      "text/plain": [
       "array([[0, 0, 0, 0, 0, 0, 0, 0, 0, 0],\n",
       "       [0, 0, 0, 0, 0, 0, 0, 0, 0, 0],\n",
       "       [0, 0, 0, 0, 0, 0, 0, 0, 0, 0],\n",
       "       [0, 0, 0, 0, 0, 0, 0, 0, 0, 0],\n",
       "       [0, 0, 0, 0, 0, 0, 0, 0, 0, 0],\n",
       "       [0, 0, 0, 0, 0, 0, 0, 0, 0, 0],\n",
       "       [0, 0, 0, 0, 0, 0, 0, 0, 0, 0],\n",
       "       [0, 0, 0, 0, 0, 0, 0, 0, 0, 0],\n",
       "       [0, 0, 0, 0, 0, 0, 0, 0, 0, 0],\n",
       "       [0, 0, 0, 0, 0, 0, 0, 0, 0, 0]])"
      ]
     },
     "execution_count": 5,
     "metadata": {},
     "output_type": "execute_result"
    }
   ],
   "source": [
    "# edited the functions above for part 2\n",
    "# check on test data, should stop after step 195\n",
    "execute_steps(day_11_test, 200, stop_all_flash=True)"
   ]
  },
  {
   "cell_type": "code",
   "execution_count": 6,
   "id": "fb1c8dad",
   "metadata": {},
   "outputs": [
    {
     "name": "stdout",
     "output_type": "stream",
     "text": [
      "Stopped at step 515 as all octopuses flashed!\n"
     ]
    },
    {
     "data": {
      "text/plain": [
       "array([[0, 0, 0, 0, 0, 0, 0, 0, 0, 0],\n",
       "       [0, 0, 0, 0, 0, 0, 0, 0, 0, 0],\n",
       "       [0, 0, 0, 0, 0, 0, 0, 0, 0, 0],\n",
       "       [0, 0, 0, 0, 0, 0, 0, 0, 0, 0],\n",
       "       [0, 0, 0, 0, 0, 0, 0, 0, 0, 0],\n",
       "       [0, 0, 0, 0, 0, 0, 0, 0, 0, 0],\n",
       "       [0, 0, 0, 0, 0, 0, 0, 0, 0, 0],\n",
       "       [0, 0, 0, 0, 0, 0, 0, 0, 0, 0],\n",
       "       [0, 0, 0, 0, 0, 0, 0, 0, 0, 0],\n",
       "       [0, 0, 0, 0, 0, 0, 0, 0, 0, 0]])"
      ]
     },
     "execution_count": 6,
     "metadata": {},
     "output_type": "execute_result"
    }
   ],
   "source": [
    "# run on full data, should stop after step 195\n",
    "execute_steps(day_11, 1000, stop_all_flash=True)"
   ]
  },
  {
   "cell_type": "markdown",
   "id": "11b33eee",
   "metadata": {},
   "source": [
    "#### Working\n",
    "Could edit execute_flash function above using this function to find neighbours, rather than array slicing"
   ]
  },
  {
   "cell_type": "code",
   "execution_count": 7,
   "id": "ae19a2b8",
   "metadata": {},
   "outputs": [],
   "source": [
    "# make a function to return neighbour coordinates - adpated from day 9\n",
    "def neighbours(in_arr, r, c):   # r = row, c = column\n",
    "    nr, nc = in_arr.shape   # number of rows and columns\n",
    "    neighbour_coords = []\n",
    "\n",
    "    if r+1 < nr:\n",
    "        neighbour_coords.append((r+1,c))\n",
    "    if r-1 >= 0:\n",
    "        neighbour_coords.append((r-1,c))\n",
    "    if c+1 < nc:\n",
    "        neighbour_coords.append((r,c+1))\n",
    "    if c-1 >= 0:\n",
    "        neighbour_coords.append((r,c-1))\n",
    "    if r+1 < nr and c+1 < nc:\n",
    "        neighbour_coords.append((r+1,c+1))\n",
    "    if r+1 < nr and c-1 >= 0:\n",
    "        neighbour_coords.append((r+1,c-1))\n",
    "    if r-1 >= 0 and c-1 >= 0:\n",
    "        neighbour_coords.append((r-1,c-1))\n",
    "    if r-1 >= 0 and c+1 < nc:\n",
    "        neighbour_coords.append((r-1,c+1))\n",
    "\n",
    "    return neighbour_coords"
   ]
  }
 ],
 "metadata": {
  "kernelspec": {
   "display_name": "geoml",
   "language": "python",
   "name": "geoml"
  },
  "language_info": {
   "codemirror_mode": {
    "name": "ipython",
    "version": 3
   },
   "file_extension": ".py",
   "mimetype": "text/x-python",
   "name": "python",
   "nbconvert_exporter": "python",
   "pygments_lexer": "ipython3",
   "version": "3.9.7"
  }
 },
 "nbformat": 4,
 "nbformat_minor": 5
}
